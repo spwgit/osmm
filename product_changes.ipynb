{
 "cells": [
  {
   "cell_type": "code",
   "execution_count": 1,
   "metadata": {},
   "outputs": [],
   "source": [
    "import geopandas as gpd\n",
    "import matplotlib.pyplot as plt\n",
    "import contextily as ctx\n",
    "from osdatahub import Extent, NGD\n",
    "import geojson\n",
    "import pandas as pd\n",
    "import os\n",
    "from dotenv import load_dotenv\n",
    "load_dotenv()\n",
    "os.environ['PROJ_NETWORK'] = 'OFF'"
   ]
  },
  {
   "cell_type": "code",
   "execution_count": 2,
   "metadata": {},
   "outputs": [
    {
     "name": "stdout",
     "output_type": "stream",
     "text": [
      "bld-fts-buildingline\n",
      "bld-fts-buildingpart\n",
      "gnm-fts-namedarea\n",
      "gnm-fts-namedpoint\n",
      "lnd-fts-land\n",
      "lnd-fts-landform\n",
      "lnd-fts-landformline\n",
      "lnd-fts-landformpoint\n",
      "lnd-fts-landpoint\n",
      "lus-fts-site\n",
      "lus-fts-siteaccesslocation\n",
      "lus-fts-siteroutingpoint\n",
      "str-fts-compoundstructure\n",
      "str-fts-structure\n",
      "str-fts-structureline\n",
      "str-fts-structurepoint\n",
      "trn-fts-cartographicraildetail\n",
      "trn-fts-rail\n",
      "trn-fts-roadline\n",
      "trn-fts-roadtrackorpath\n",
      "trn-ntwk-connectinglink\n",
      "trn-ntwk-connectingnode\n",
      "trn-ntwk-ferrylink\n",
      "trn-ntwk-ferrynode\n",
      "trn-ntwk-ferryterminal\n",
      "trn-ntwk-path\n",
      "trn-ntwk-pathlink\n",
      "trn-ntwk-pathnode\n",
      "trn-ntwk-road\n",
      "trn-ntwk-roadjunction\n",
      "trn-ntwk-roadlink\n",
      "trn-ntwk-roadnode\n",
      "trn-ntwk-street\n",
      "trn-rami-highwaydedication\n",
      "trn-rami-maintenancearea\n",
      "trn-rami-maintenanceline\n",
      "trn-rami-maintenancepoint\n",
      "trn-rami-reinstatementarea\n",
      "trn-rami-reinstatementline\n",
      "trn-rami-reinstatementpoint\n",
      "trn-rami-restriction\n",
      "trn-rami-routinghazard\n",
      "trn-rami-routingstructure\n",
      "trn-rami-specialdesignationarea\n",
      "trn-rami-specialdesignationline\n",
      "trn-rami-specialdesignationpoint\n",
      "wtr-fts-intertidalline\n",
      "wtr-fts-tidalboundary\n",
      "wtr-fts-water\n",
      "wtr-fts-waterpoint\n",
      "wtr-ntwk-waterlink\n",
      "wtr-ntwk-waterlinkset\n",
      "wtr-ntwk-waternode\n"
     ]
    }
   ],
   "source": [
    "key = os.getenv('key')\n",
    "ngd_collections = NGD.get_collections()\n",
    "for collection in ngd_collections['collections']:\n",
    "    product = collection[\"id\"]\n",
    "    print(product)"
   ]
  }
 ],
 "metadata": {
  "kernelspec": {
   "display_name": "Python 3",
   "language": "python",
   "name": "python3"
  },
  "language_info": {
   "codemirror_mode": {
    "name": "ipython",
    "version": 3
   },
   "file_extension": ".py",
   "mimetype": "text/x-python",
   "name": "python",
   "nbconvert_exporter": "python",
   "pygments_lexer": "ipython3",
   "version": "3.11.0"
  },
  "orig_nbformat": 4
 },
 "nbformat": 4,
 "nbformat_minor": 2
}
